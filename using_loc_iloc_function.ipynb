{
 "cells": [
  {
   "cell_type": "markdown",
   "id": "e4e8d534",
   "metadata": {},
   "source": [
    "<details><summary style=\"display:list-item; font-size:16px; color:blue;\">Jupyter Help</summary>\n",
    "    \n",
    "Having trouble testing your work? Double-check that you have followed the steps below to write, run, save, and test your code!\n",
    "    \n",
    "[Click here for a walkthrough GIF of the steps below](https://static-assets.codecademy.com/Courses/ds-python/jupyter-help.gif)\n",
    "\n",
    "Run all initial cells to import libraries and datasets. Then follow these steps for each question:\n",
    "    \n",
    "1. Add your solution to the cell with `## YOUR SOLUTION HERE ## `.\n",
    "2. Run the cell by selecting the `Run` button or the `Shift`+`Enter` keys.\n",
    "3. Save your work by selecting the `Save` button, the `command`+`s` keys (Mac), or `control`+`s` keys (Windows).\n",
    "4. Select the `Test Work` button at the bottom left to test your work.\n",
    "\n",
    "![Screenshot of the buttons at the top of a Jupyter Notebook. The Run and Save buttons are highlighted](https://static-assets.codecademy.com/Paths/ds-python/jupyter-buttons.png)"
   ]
  },
  {
   "cell_type": "markdown",
   "id": "4c609b12",
   "metadata": {},
   "source": [
    "Setup"
   ]
  },
  {
   "cell_type": "code",
   "execution_count": 24,
   "id": "047d9dc9",
   "metadata": {
    "deletable": false,
    "tags": [
     "setup"
    ]
   },
   "outputs": [
    {
     "data": {
      "text/html": [
       "<div>\n",
       "<style scoped>\n",
       "    .dataframe tbody tr th:only-of-type {\n",
       "        vertical-align: middle;\n",
       "    }\n",
       "\n",
       "    .dataframe tbody tr th {\n",
       "        vertical-align: top;\n",
       "    }\n",
       "\n",
       "    .dataframe thead th {\n",
       "        text-align: right;\n",
       "    }\n",
       "</style>\n",
       "<table border=\"1\" class=\"dataframe\">\n",
       "  <thead>\n",
       "    <tr style=\"text-align: right;\">\n",
       "      <th></th>\n",
       "      <th>id</th>\n",
       "      <th>model</th>\n",
       "      <th>year</th>\n",
       "      <th>transmission</th>\n",
       "      <th>manufacturer</th>\n",
       "      <th>vehicle_type</th>\n",
       "      <th>fuel</th>\n",
       "      <th>fuel_configuration</th>\n",
       "      <th>best_mpge</th>\n",
       "    </tr>\n",
       "  </thead>\n",
       "  <tbody>\n",
       "    <tr>\n",
       "      <th>1940</th>\n",
       "      <td>13107</td>\n",
       "      <td>taycan gts st</td>\n",
       "      <td>2023</td>\n",
       "      <td>auto</td>\n",
       "      <td>porsche</td>\n",
       "      <td>sedan/wagon</td>\n",
       "      <td>electric</td>\n",
       "      <td>dedicated</td>\n",
       "      <td>80.0</td>\n",
       "    </tr>\n",
       "    <tr>\n",
       "      <th>718</th>\n",
       "      <td>13106</td>\n",
       "      <td>taycan gts</td>\n",
       "      <td>2023</td>\n",
       "      <td>auto</td>\n",
       "      <td>porsche</td>\n",
       "      <td>sedan/wagon</td>\n",
       "      <td>electric</td>\n",
       "      <td>dedicated</td>\n",
       "      <td>83.0</td>\n",
       "    </tr>\n",
       "    <tr>\n",
       "      <th>1663</th>\n",
       "      <td>12836</td>\n",
       "      <td>range rover sport phev</td>\n",
       "      <td>2022</td>\n",
       "      <td>auto</td>\n",
       "      <td>land rover</td>\n",
       "      <td>suv</td>\n",
       "      <td>plug-in hybrid electric</td>\n",
       "      <td>hybrid electric</td>\n",
       "      <td>21.0</td>\n",
       "    </tr>\n",
       "    <tr>\n",
       "      <th>1581</th>\n",
       "      <td>12970</td>\n",
       "      <td>r1s</td>\n",
       "      <td>2022</td>\n",
       "      <td>auto</td>\n",
       "      <td>rivian</td>\n",
       "      <td>suv</td>\n",
       "      <td>electric</td>\n",
       "      <td>dedicated</td>\n",
       "      <td>73.0</td>\n",
       "    </tr>\n",
       "    <tr>\n",
       "      <th>1597</th>\n",
       "      <td>13018</td>\n",
       "      <td>model y rwd</td>\n",
       "      <td>2022</td>\n",
       "      <td>auto</td>\n",
       "      <td>tesla</td>\n",
       "      <td>suv</td>\n",
       "      <td>electric</td>\n",
       "      <td>dedicated</td>\n",
       "      <td>140.0</td>\n",
       "    </tr>\n",
       "  </tbody>\n",
       "</table>\n",
       "</div>"
      ],
      "text/plain": [
       "         id                   model  year transmission manufacturer  \\\n",
       "1940  13107           taycan gts st  2023         auto      porsche   \n",
       "718   13106              taycan gts  2023         auto      porsche   \n",
       "1663  12836  range rover sport phev  2022         auto   land rover   \n",
       "1581  12970                     r1s  2022         auto      rivian    \n",
       "1597  13018             model y rwd  2022         auto        tesla   \n",
       "\n",
       "     vehicle_type                     fuel fuel_configuration  best_mpge  \n",
       "1940  sedan/wagon                 electric          dedicated       80.0  \n",
       "718   sedan/wagon                 electric          dedicated       83.0  \n",
       "1663          suv  plug-in hybrid electric    hybrid electric       21.0  \n",
       "1581          suv                 electric          dedicated       73.0  \n",
       "1597          suv                 electric          dedicated      140.0  "
      ]
     },
     "execution_count": 24,
     "metadata": {},
     "output_type": "execute_result"
    }
   ],
   "source": [
    "import pandas as pd\n",
    "vehicles = pd.read_csv('vehicles.csv')\n",
    "vehicles = vehicles.sort_values(by='year',ascending=False)\n",
    "vehicles.head()"
   ]
  },
  {
   "cell_type": "markdown",
   "id": "079e0e0c",
   "metadata": {},
   "source": [
    "1. Use `.loc` to select the first two rows (all 2023 models) and the `manufacturer` column. Assign the result to `manufacturers_2023`."
   ]
  },
  {
   "cell_type": "code",
   "execution_count": 25,
   "id": "b318baec",
   "metadata": {
    "deletable": false,
    "tags": [
     "cp1"
    ]
   },
   "outputs": [
    {
     "data": {
      "text/html": [
       "<div>\n",
       "<style scoped>\n",
       "    .dataframe tbody tr th:only-of-type {\n",
       "        vertical-align: middle;\n",
       "    }\n",
       "\n",
       "    .dataframe tbody tr th {\n",
       "        vertical-align: top;\n",
       "    }\n",
       "\n",
       "    .dataframe thead th {\n",
       "        text-align: right;\n",
       "    }\n",
       "</style>\n",
       "<table border=\"1\" class=\"dataframe\">\n",
       "  <thead>\n",
       "    <tr style=\"text-align: right;\">\n",
       "      <th></th>\n",
       "      <th>manufacturer</th>\n",
       "    </tr>\n",
       "  </thead>\n",
       "  <tbody>\n",
       "    <tr>\n",
       "      <th>1940</th>\n",
       "      <td>porsche</td>\n",
       "    </tr>\n",
       "    <tr>\n",
       "      <th>718</th>\n",
       "      <td>porsche</td>\n",
       "    </tr>\n",
       "  </tbody>\n",
       "</table>\n",
       "</div>"
      ],
      "text/plain": [
       "     manufacturer\n",
       "1940      porsche\n",
       "718       porsche"
      ]
     },
     "execution_count": 25,
     "metadata": {},
     "output_type": "execute_result"
    }
   ],
   "source": [
    "## YOUR SOLUTION HERE ##\n",
    "manufacturers_2023 = vehicles.loc[[1940,718],['manufacturer']]\n",
    "\n",
    "# show output\n",
    "manufacturers_2023"
   ]
  },
  {
   "cell_type": "markdown",
   "id": "6a172e5e",
   "metadata": {},
   "source": [
    "2. Use `.iloc` to select the first two rows (all 2023 models) and the `fuel` column. Assign the result to `fuels_2023`."
   ]
  },
  {
   "cell_type": "code",
   "execution_count": 27,
   "id": "e73ed471",
   "metadata": {
    "deletable": false,
    "tags": [
     "cp2"
    ]
   },
   "outputs": [
    {
     "data": {
      "text/html": [
       "<div>\n",
       "<style scoped>\n",
       "    .dataframe tbody tr th:only-of-type {\n",
       "        vertical-align: middle;\n",
       "    }\n",
       "\n",
       "    .dataframe tbody tr th {\n",
       "        vertical-align: top;\n",
       "    }\n",
       "\n",
       "    .dataframe thead th {\n",
       "        text-align: right;\n",
       "    }\n",
       "</style>\n",
       "<table border=\"1\" class=\"dataframe\">\n",
       "  <thead>\n",
       "    <tr style=\"text-align: right;\">\n",
       "      <th></th>\n",
       "      <th>fuel</th>\n",
       "    </tr>\n",
       "  </thead>\n",
       "  <tbody>\n",
       "    <tr>\n",
       "      <th>1940</th>\n",
       "      <td>electric</td>\n",
       "    </tr>\n",
       "    <tr>\n",
       "      <th>718</th>\n",
       "      <td>electric</td>\n",
       "    </tr>\n",
       "  </tbody>\n",
       "</table>\n",
       "</div>"
      ],
      "text/plain": [
       "          fuel\n",
       "1940  electric\n",
       "718   electric"
      ]
     },
     "execution_count": 27,
     "metadata": {},
     "output_type": "execute_result"
    }
   ],
   "source": [
    "## YOUR SOLUTION HERE ##\n",
    "fuels_2023 = vehicles.iloc[[0,1],[6]]\n",
    "\n",
    "# show output\n",
    "fuels_2023"
   ]
  },
  {
   "cell_type": "code",
   "execution_count": null,
   "id": "43a378fa",
   "metadata": {},
   "outputs": [],
   "source": []
  }
 ],
 "metadata": {
  "kernelspec": {
   "display_name": "Python 3 (ipykernel)",
   "language": "python",
   "name": "python3"
  },
  "language_info": {
   "codemirror_mode": {
    "name": "ipython",
    "version": 3
   },
   "file_extension": ".py",
   "mimetype": "text/x-python",
   "name": "python",
   "nbconvert_exporter": "python",
   "pygments_lexer": "ipython3",
   "version": "3.8.10"
  }
 },
 "nbformat": 4,
 "nbformat_minor": 5
}
