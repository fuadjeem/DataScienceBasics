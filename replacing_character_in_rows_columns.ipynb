{
 "cells": [
  {
   "cell_type": "markdown",
   "id": "5467a62a",
   "metadata": {},
   "source": [
    "<details><summary style=\"display:list-item; font-size:16px; color:blue;\">Jupyter Help</summary>\n",
    "    \n",
    "Having trouble testing your work? Double-check that you have followed the steps below to write, run, save, and test your code!\n",
    "    \n",
    "[Click here for a walkthrough GIF of the steps below](https://static-assets.codecademy.com/Courses/ds-python/jupyter-help.gif)\n",
    "\n",
    "Run all initial cells to import libraries and datasets. Then follow these steps for each question:\n",
    "    \n",
    "1. Add your solution to the cell with `## YOUR SOLUTION HERE ## `.\n",
    "2. Run the cell by selecting the `Run` button or the `Shift`+`Enter` keys.\n",
    "3. Save your work by selecting the `Save` button, the `command`+`s` keys (Mac), or `control`+`s` keys (Windows).\n",
    "4. Select the `Test Work` button at the bottom left to test your work.\n",
    "\n",
    "![Screenshot of the buttons at the top of a Jupyter Notebook. The Run and Save buttons are highlighted](https://static-assets.codecademy.com/Paths/ds-python/jupyter-buttons.png)"
   ]
  },
  {
   "cell_type": "markdown",
   "id": "bfb02110",
   "metadata": {},
   "source": [
    "Setup"
   ]
  },
  {
   "cell_type": "code",
   "execution_count": 2,
   "id": "047d9dc9",
   "metadata": {
    "deletable": false,
    "tags": [
     "setup"
    ]
   },
   "outputs": [
    {
     "data": {
      "text/html": [
       "<div>\n",
       "<style scoped>\n",
       "    .dataframe tbody tr th:only-of-type {\n",
       "        vertical-align: middle;\n",
       "    }\n",
       "\n",
       "    .dataframe tbody tr th {\n",
       "        vertical-align: top;\n",
       "    }\n",
       "\n",
       "    .dataframe thead th {\n",
       "        text-align: right;\n",
       "    }\n",
       "</style>\n",
       "<table border=\"1\" class=\"dataframe\">\n",
       "  <thead>\n",
       "    <tr style=\"text-align: right;\">\n",
       "      <th></th>\n",
       "      <th>Park</th>\n",
       "      <th>Location</th>\n",
       "      <th>AnnualPassPrice</th>\n",
       "      <th>Area</th>\n",
       "      <th>ParkType</th>\n",
       "      <th>Visitors2021</th>\n",
       "      <th>Visitors2020</th>\n",
       "      <th>Visitors2019</th>\n",
       "      <th>State</th>\n",
       "      <th>ParkTitle</th>\n",
       "    </tr>\n",
       "  </thead>\n",
       "  <tbody>\n",
       "    <tr>\n",
       "      <th>0</th>\n",
       "      <td>Great Smoky Mountains</td>\n",
       "      <td>Gatlinburg, TN</td>\n",
       "      <td>40</td>\n",
       "      <td>816.3 sqmi</td>\n",
       "      <td>National park</td>\n",
       "      <td>14161548</td>\n",
       "      <td>12095720</td>\n",
       "      <td>12547743.0</td>\n",
       "      <td>TN</td>\n",
       "      <td>Great Smoky Mountains National park</td>\n",
       "    </tr>\n",
       "    <tr>\n",
       "      <th>1</th>\n",
       "      <td>Zion</td>\n",
       "      <td>Springdale, UT</td>\n",
       "      <td>70</td>\n",
       "      <td>229.1 sqmi</td>\n",
       "      <td>National park</td>\n",
       "      <td>5039835</td>\n",
       "      <td>3591254</td>\n",
       "      <td>4488268.0</td>\n",
       "      <td>UT</td>\n",
       "      <td>Zion National park</td>\n",
       "    </tr>\n",
       "    <tr>\n",
       "      <th>2</th>\n",
       "      <td>Yellowstone</td>\n",
       "      <td>Jackson, WY</td>\n",
       "      <td>70</td>\n",
       "      <td>3468.4 sqmi</td>\n",
       "      <td>National park</td>\n",
       "      <td>4860242</td>\n",
       "      <td>3806306</td>\n",
       "      <td>4020288.0</td>\n",
       "      <td>WY</td>\n",
       "      <td>Yellowstone National park</td>\n",
       "    </tr>\n",
       "    <tr>\n",
       "      <th>3</th>\n",
       "      <td>Grand Canyon</td>\n",
       "      <td>Grand Canyon Village, AZ</td>\n",
       "      <td>80</td>\n",
       "      <td>1902.0 sqmi</td>\n",
       "      <td>National park</td>\n",
       "      <td>4532677</td>\n",
       "      <td>2897098</td>\n",
       "      <td>5974411.0</td>\n",
       "      <td>AZ</td>\n",
       "      <td>Grand Canyon National park</td>\n",
       "    </tr>\n",
       "    <tr>\n",
       "      <th>4</th>\n",
       "      <td>Rocky Mountain</td>\n",
       "      <td>Estes Park, CO</td>\n",
       "      <td>70</td>\n",
       "      <td>414.8 sqmi</td>\n",
       "      <td>National park</td>\n",
       "      <td>4434848</td>\n",
       "      <td>3305199</td>\n",
       "      <td>4670053.0</td>\n",
       "      <td>CO</td>\n",
       "      <td>Rocky Mountain National park</td>\n",
       "    </tr>\n",
       "  </tbody>\n",
       "</table>\n",
       "</div>"
      ],
      "text/plain": [
       "                    Park                  Location  AnnualPassPrice  \\\n",
       "0  Great Smoky Mountains            Gatlinburg, TN               40   \n",
       "1                   Zion            Springdale, UT               70   \n",
       "2            Yellowstone               Jackson, WY               70   \n",
       "3           Grand Canyon  Grand Canyon Village, AZ               80   \n",
       "4         Rocky Mountain            Estes Park, CO               70   \n",
       "\n",
       "          Area       ParkType  Visitors2021  Visitors2020  Visitors2019 State  \\\n",
       "0   816.3 sqmi  National park      14161548      12095720    12547743.0    TN   \n",
       "1   229.1 sqmi  National park       5039835       3591254     4488268.0    UT   \n",
       "2  3468.4 sqmi  National park       4860242       3806306     4020288.0    WY   \n",
       "3  1902.0 sqmi  National park       4532677       2897098     5974411.0    AZ   \n",
       "4   414.8 sqmi  National park       4434848       3305199     4670053.0    CO   \n",
       "\n",
       "                             ParkTitle  \n",
       "0  Great Smoky Mountains National park  \n",
       "1                   Zion National park  \n",
       "2            Yellowstone National park  \n",
       "3           Grand Canyon National park  \n",
       "4         Rocky Mountain National park  "
      ]
     },
     "execution_count": 2,
     "metadata": {},
     "output_type": "execute_result"
    }
   ],
   "source": [
    "import pandas as pd\n",
    "parks = pd.read_csv('nationalpark_visitors.csv')\n",
    "parks['State'] = parks['Location'].str.split(pat=',', expand=True)[1]\n",
    "parks['ParkTitle'] = parks['Park'].str.cat(parks['ParkType'], sep=' ')\n",
    "parks.head()"
   ]
  },
  {
   "cell_type": "markdown",
   "id": "079e0e0c",
   "metadata": {},
   "source": [
    "1. The texts in the `ParkTitle` column are not correctly titled. Specifically, the words `'park'` and `'preserve'` are all lowercase. Modify the text in the `ParkTitle` column to a title. "
   ]
  },
  {
   "cell_type": "code",
   "execution_count": 3,
   "id": "b318baec",
   "metadata": {
    "deletable": false,
    "tags": [
     "cp1"
    ]
   },
   "outputs": [
    {
     "data": {
      "text/plain": [
       "0    Great Smoky Mountains National Park\n",
       "1                     Zion National Park\n",
       "2              Yellowstone National Park\n",
       "3             Grand Canyon National Park\n",
       "4           Rocky Mountain National Park\n",
       "Name: ParkTitle, dtype: object"
      ]
     },
     "execution_count": 3,
     "metadata": {},
     "output_type": "execute_result"
    }
   ],
   "source": [
    "## YOUR SOLUTION HERE ##\n",
    "parks['ParkTitle'] = parks['ParkTitle'].str.title()\n",
    "\n",
    "# show output\n",
    "parks['ParkTitle'].head()"
   ]
  },
  {
   "cell_type": "markdown",
   "id": "6a172e5e",
   "metadata": {},
   "source": [
    "2. When we split the `Location` column in the previous exercise, the resulting `State` column contained an unnecessary leading whitespace (ex: `' TN'`). Modify the `State` column by removing the whitespace."
   ]
  },
  {
   "cell_type": "code",
   "execution_count": 4,
   "id": "e73ed471",
   "metadata": {
    "deletable": false,
    "tags": [
     "cp2"
    ]
   },
   "outputs": [
    {
     "data": {
      "text/plain": [
       "0    TN\n",
       "1    UT\n",
       "2    WY\n",
       "3    AZ\n",
       "4    CO\n",
       "Name: State, dtype: object"
      ]
     },
     "execution_count": 4,
     "metadata": {},
     "output_type": "execute_result"
    }
   ],
   "source": [
    "## YOUR SOLUTION HERE ##\n",
    "parks['State'] = parks['State'].str.strip(' ')\n",
    "\n",
    "# show output\n",
    "parks['State'].head()"
   ]
  },
  {
   "cell_type": "markdown",
   "id": "8d481799",
   "metadata": {},
   "source": [
    "3. In the `ParkTitle` column, the dataset author use `'&'` and `'And'` interchangeably. For example, in rows 17 and 37 we have\n",
    "\n",
    "-|ParkTitle|\n",
    "-|--|\n",
    "17|New River Gorge National Park And Preserve|\n",
    "37|Great Sand Dunes National Park & Preserve|\n",
    "\n",
    "Modify the `ParkTitle` column by replacing every instance of `&` with `And`"
   ]
  },
  {
   "cell_type": "code",
   "execution_count": 5,
   "id": "4ddf801b",
   "metadata": {
    "deletable": false,
    "tags": [
     "cp3"
    ]
   },
   "outputs": [
    {
     "data": {
      "text/plain": [
       "Park                                          Great Sand Dunes\n",
       "Location                                             Mosca, CO\n",
       "AnnualPassPrice                                             45\n",
       "Area                                                232.9 sqmi\n",
       "ParkType                              National park & preserve\n",
       "Visitors2021                                            602613\n",
       "Visitors2020                                            461532\n",
       "Visitors2019                                          527546.0\n",
       "State                                                       CO\n",
       "ParkTitle          Great Sand Dunes National Park And Preserve\n",
       "Name: 37, dtype: object"
      ]
     },
     "execution_count": 5,
     "metadata": {},
     "output_type": "execute_result"
    }
   ],
   "source": [
    "## YOUR SOLUTION HERE ##\n",
    "parks['ParkTitle'] = parks['ParkTitle'].str.replace(pat = '&',\n",
    "                                                   repl = 'And',\n",
    "                                                   regex = False)\n",
    "\n",
    "# show output\n",
    "parks.loc[37,:]"
   ]
  },
  {
   "cell_type": "code",
   "execution_count": null,
   "id": "45eccc1c",
   "metadata": {},
   "outputs": [],
   "source": []
  },
  {
   "cell_type": "code",
   "execution_count": null,
   "id": "4a0cdae6",
   "metadata": {},
   "outputs": [],
   "source": []
  }
 ],
 "metadata": {
  "kernelspec": {
   "display_name": "Python 3 (ipykernel)",
   "language": "python",
   "name": "python3"
  },
  "language_info": {
   "codemirror_mode": {
    "name": "ipython",
    "version": 3
   },
   "file_extension": ".py",
   "mimetype": "text/x-python",
   "name": "python",
   "nbconvert_exporter": "python",
   "pygments_lexer": "ipython3",
   "version": "3.8.10"
  }
 },
 "nbformat": 4,
 "nbformat_minor": 5
}
