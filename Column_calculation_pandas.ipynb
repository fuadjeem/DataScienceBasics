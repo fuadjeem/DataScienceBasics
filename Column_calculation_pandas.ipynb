{
 "cells": [
  {
   "cell_type": "markdown",
   "id": "3f6c041c",
   "metadata": {},
   "source": [
    "<details><summary style=\"display:list-item; font-size:16px; color:blue;\">Jupyter Help</summary>\n",
    "    \n",
    "Having trouble testing your work? Double-check that you have followed the steps below to write, run, save, and test your code!\n",
    "    \n",
    "[Click here for a walkthrough GIF of the steps below](https://static-assets.codecademy.com/Courses/ds-python/jupyter-help.gif)\n",
    "\n",
    "Run all initial cells to import libraries and datasets. Then follow these steps for each question:\n",
    "    \n",
    "1. Add your solution to the cell with `## YOUR SOLUTION HERE ## `.\n",
    "2. Run the cell by selecting the `Run` button or the `Shift`+`Enter` keys.\n",
    "3. Save your work by selecting the `Save` button, the `command`+`s` keys (Mac), or `control`+`s` keys (Windows).\n",
    "4. Select the `Test Work` button at the bottom left to test your work.\n",
    "\n",
    "![Screenshot of the buttons at the top of a Jupyter Notebook. The Run and Save buttons are highlighted](https://static-assets.codecademy.com/Paths/ds-python/jupyter-buttons.png)"
   ]
  },
  {
   "cell_type": "markdown",
   "id": "d185796d",
   "metadata": {},
   "source": [
    "Setup"
   ]
  },
  {
   "cell_type": "code",
   "execution_count": 1,
   "id": "047d9dc9",
   "metadata": {
    "deletable": false,
    "tags": [
     "setup"
    ]
   },
   "outputs": [
    {
     "data": {
      "text/html": [
       "<div>\n",
       "<style scoped>\n",
       "    .dataframe tbody tr th:only-of-type {\n",
       "        vertical-align: middle;\n",
       "    }\n",
       "\n",
       "    .dataframe tbody tr th {\n",
       "        vertical-align: top;\n",
       "    }\n",
       "\n",
       "    .dataframe thead th {\n",
       "        text-align: right;\n",
       "    }\n",
       "</style>\n",
       "<table border=\"1\" class=\"dataframe\">\n",
       "  <thead>\n",
       "    <tr style=\"text-align: right;\">\n",
       "      <th></th>\n",
       "      <th>Park</th>\n",
       "      <th>Location</th>\n",
       "      <th>AnnualPassPrice</th>\n",
       "      <th>Area</th>\n",
       "      <th>ParkType</th>\n",
       "      <th>Visitors2021</th>\n",
       "      <th>Visitors2020</th>\n",
       "      <th>Visitors2019</th>\n",
       "    </tr>\n",
       "  </thead>\n",
       "  <tbody>\n",
       "    <tr>\n",
       "      <th>0</th>\n",
       "      <td>Great Smoky Mountains</td>\n",
       "      <td>Gatlinburg, TN</td>\n",
       "      <td>40</td>\n",
       "      <td>816.3 sqmi</td>\n",
       "      <td>National park</td>\n",
       "      <td>14161548</td>\n",
       "      <td>12095720</td>\n",
       "      <td>12547743.0</td>\n",
       "    </tr>\n",
       "    <tr>\n",
       "      <th>1</th>\n",
       "      <td>Zion</td>\n",
       "      <td>Springdale, UT</td>\n",
       "      <td>70</td>\n",
       "      <td>229.1 sqmi</td>\n",
       "      <td>National park</td>\n",
       "      <td>5039835</td>\n",
       "      <td>3591254</td>\n",
       "      <td>4488268.0</td>\n",
       "    </tr>\n",
       "    <tr>\n",
       "      <th>2</th>\n",
       "      <td>Yellowstone</td>\n",
       "      <td>Jackson, WY</td>\n",
       "      <td>70</td>\n",
       "      <td>3468.4 sqmi</td>\n",
       "      <td>National park</td>\n",
       "      <td>4860242</td>\n",
       "      <td>3806306</td>\n",
       "      <td>4020288.0</td>\n",
       "    </tr>\n",
       "    <tr>\n",
       "      <th>3</th>\n",
       "      <td>Grand Canyon</td>\n",
       "      <td>Grand Canyon Village, AZ</td>\n",
       "      <td>80</td>\n",
       "      <td>1902.0 sqmi</td>\n",
       "      <td>National park</td>\n",
       "      <td>4532677</td>\n",
       "      <td>2897098</td>\n",
       "      <td>5974411.0</td>\n",
       "    </tr>\n",
       "    <tr>\n",
       "      <th>4</th>\n",
       "      <td>Rocky Mountain</td>\n",
       "      <td>Estes Park, CO</td>\n",
       "      <td>70</td>\n",
       "      <td>414.8 sqmi</td>\n",
       "      <td>National park</td>\n",
       "      <td>4434848</td>\n",
       "      <td>3305199</td>\n",
       "      <td>4670053.0</td>\n",
       "    </tr>\n",
       "  </tbody>\n",
       "</table>\n",
       "</div>"
      ],
      "text/plain": [
       "                    Park                  Location  AnnualPassPrice  \\\n",
       "0  Great Smoky Mountains            Gatlinburg, TN               40   \n",
       "1                   Zion            Springdale, UT               70   \n",
       "2            Yellowstone               Jackson, WY               70   \n",
       "3           Grand Canyon  Grand Canyon Village, AZ               80   \n",
       "4         Rocky Mountain            Estes Park, CO               70   \n",
       "\n",
       "          Area       ParkType  Visitors2021  Visitors2020  Visitors2019  \n",
       "0   816.3 sqmi  National park      14161548      12095720    12547743.0  \n",
       "1   229.1 sqmi  National park       5039835       3591254     4488268.0  \n",
       "2  3468.4 sqmi  National park       4860242       3806306     4020288.0  \n",
       "3  1902.0 sqmi  National park       4532677       2897098     5974411.0  \n",
       "4   414.8 sqmi  National park       4434848       3305199     4670053.0  "
      ]
     },
     "execution_count": 1,
     "metadata": {},
     "output_type": "execute_result"
    }
   ],
   "source": [
    "import pandas as pd\n",
    "parks = pd.read_csv('nationalpark_visitors.csv')\n",
    "parks.head()"
   ]
  },
  {
   "cell_type": "markdown",
   "id": "079e0e0c",
   "metadata": {},
   "source": [
    "1. Calculate the change in visitors from 2019 to 2020 by subtracting `Visitors2019` from `Visitors2020`. Assign the result to a new column `Change2020`."
   ]
  },
  {
   "cell_type": "code",
   "execution_count": 3,
   "id": "b318baec",
   "metadata": {
    "deletable": false,
    "tags": [
     "cp1"
    ]
   },
   "outputs": [
    {
     "data": {
      "text/html": [
       "<div>\n",
       "<style scoped>\n",
       "    .dataframe tbody tr th:only-of-type {\n",
       "        vertical-align: middle;\n",
       "    }\n",
       "\n",
       "    .dataframe tbody tr th {\n",
       "        vertical-align: top;\n",
       "    }\n",
       "\n",
       "    .dataframe thead th {\n",
       "        text-align: right;\n",
       "    }\n",
       "</style>\n",
       "<table border=\"1\" class=\"dataframe\">\n",
       "  <thead>\n",
       "    <tr style=\"text-align: right;\">\n",
       "      <th></th>\n",
       "      <th>Visitors2020</th>\n",
       "      <th>Visitors2019</th>\n",
       "      <th>Change2020</th>\n",
       "    </tr>\n",
       "  </thead>\n",
       "  <tbody>\n",
       "    <tr>\n",
       "      <th>0</th>\n",
       "      <td>12095720</td>\n",
       "      <td>12547743.0</td>\n",
       "      <td>-452023.0</td>\n",
       "    </tr>\n",
       "    <tr>\n",
       "      <th>1</th>\n",
       "      <td>3591254</td>\n",
       "      <td>4488268.0</td>\n",
       "      <td>-897014.0</td>\n",
       "    </tr>\n",
       "    <tr>\n",
       "      <th>2</th>\n",
       "      <td>3806306</td>\n",
       "      <td>4020288.0</td>\n",
       "      <td>-213982.0</td>\n",
       "    </tr>\n",
       "    <tr>\n",
       "      <th>3</th>\n",
       "      <td>2897098</td>\n",
       "      <td>5974411.0</td>\n",
       "      <td>-3077313.0</td>\n",
       "    </tr>\n",
       "    <tr>\n",
       "      <th>4</th>\n",
       "      <td>3305199</td>\n",
       "      <td>4670053.0</td>\n",
       "      <td>-1364854.0</td>\n",
       "    </tr>\n",
       "  </tbody>\n",
       "</table>\n",
       "</div>"
      ],
      "text/plain": [
       "   Visitors2020  Visitors2019  Change2020\n",
       "0      12095720    12547743.0   -452023.0\n",
       "1       3591254     4488268.0   -897014.0\n",
       "2       3806306     4020288.0   -213982.0\n",
       "3       2897098     5974411.0  -3077313.0\n",
       "4       3305199     4670053.0  -1364854.0"
      ]
     },
     "execution_count": 3,
     "metadata": {},
     "output_type": "execute_result"
    }
   ],
   "source": [
    "## YOUR SOLUTION HERE ##\n",
    "parks['Change2020'] = parks['Visitors2020'] - parks['Visitors2019']\n",
    "\n",
    "# show output\n",
    "parks[['Visitors2020','Visitors2019','Change2020']].head()"
   ]
  },
  {
   "cell_type": "markdown",
   "id": "6a172e5e",
   "metadata": {},
   "source": [
    "2. Create a `PercentChange2020` column by dividing `Change2020` by `Visitors2019` multiplied by `100`."
   ]
  },
  {
   "cell_type": "code",
   "execution_count": 4,
   "id": "e73ed471",
   "metadata": {
    "deletable": false,
    "tags": [
     "cp2"
    ]
   },
   "outputs": [
    {
     "data": {
      "text/html": [
       "<div>\n",
       "<style scoped>\n",
       "    .dataframe tbody tr th:only-of-type {\n",
       "        vertical-align: middle;\n",
       "    }\n",
       "\n",
       "    .dataframe tbody tr th {\n",
       "        vertical-align: top;\n",
       "    }\n",
       "\n",
       "    .dataframe thead th {\n",
       "        text-align: right;\n",
       "    }\n",
       "</style>\n",
       "<table border=\"1\" class=\"dataframe\">\n",
       "  <thead>\n",
       "    <tr style=\"text-align: right;\">\n",
       "      <th></th>\n",
       "      <th>Visitors2020</th>\n",
       "      <th>Visitors2019</th>\n",
       "      <th>Change2020</th>\n",
       "      <th>PercentChange2020</th>\n",
       "    </tr>\n",
       "  </thead>\n",
       "  <tbody>\n",
       "    <tr>\n",
       "      <th>0</th>\n",
       "      <td>12095720</td>\n",
       "      <td>12547743.0</td>\n",
       "      <td>-452023.0</td>\n",
       "      <td>-3.602425</td>\n",
       "    </tr>\n",
       "    <tr>\n",
       "      <th>1</th>\n",
       "      <td>3591254</td>\n",
       "      <td>4488268.0</td>\n",
       "      <td>-897014.0</td>\n",
       "      <td>-19.985750</td>\n",
       "    </tr>\n",
       "    <tr>\n",
       "      <th>2</th>\n",
       "      <td>3806306</td>\n",
       "      <td>4020288.0</td>\n",
       "      <td>-213982.0</td>\n",
       "      <td>-5.322554</td>\n",
       "    </tr>\n",
       "    <tr>\n",
       "      <th>3</th>\n",
       "      <td>2897098</td>\n",
       "      <td>5974411.0</td>\n",
       "      <td>-3077313.0</td>\n",
       "      <td>-51.508224</td>\n",
       "    </tr>\n",
       "    <tr>\n",
       "      <th>4</th>\n",
       "      <td>3305199</td>\n",
       "      <td>4670053.0</td>\n",
       "      <td>-1364854.0</td>\n",
       "      <td>-29.225664</td>\n",
       "    </tr>\n",
       "  </tbody>\n",
       "</table>\n",
       "</div>"
      ],
      "text/plain": [
       "   Visitors2020  Visitors2019  Change2020  PercentChange2020\n",
       "0      12095720    12547743.0   -452023.0          -3.602425\n",
       "1       3591254     4488268.0   -897014.0         -19.985750\n",
       "2       3806306     4020288.0   -213982.0          -5.322554\n",
       "3       2897098     5974411.0  -3077313.0         -51.508224\n",
       "4       3305199     4670053.0  -1364854.0         -29.225664"
      ]
     },
     "execution_count": 4,
     "metadata": {},
     "output_type": "execute_result"
    }
   ],
   "source": [
    "## YOUR SOLUTION HERE ##\n",
    "parks['PercentChange2020'] = parks['Change2020'] / parks['Visitors2019']*100\n",
    "# show output\n",
    "parks[['Visitors2020','Visitors2019','Change2020','PercentChange2020']].head()"
   ]
  },
  {
   "cell_type": "markdown",
   "id": "8d481799",
   "metadata": {},
   "source": [
    "3. Modify the `PercentChange2020` column by rounding the percent values to `2` decimal places."
   ]
  },
  {
   "cell_type": "code",
   "execution_count": 5,
   "id": "4ddf801b",
   "metadata": {
    "deletable": false,
    "tags": [
     "cp3"
    ]
   },
   "outputs": [
    {
     "data": {
      "text/plain": [
       "count    71.000000\n",
       "mean    -29.499014\n",
       "std      28.994767\n",
       "min     -99.140000\n",
       "25%     -47.405000\n",
       "50%     -27.130000\n",
       "75%     -10.295000\n",
       "max      25.590000\n",
       "Name: PercentChange2020, dtype: float64"
      ]
     },
     "execution_count": 5,
     "metadata": {},
     "output_type": "execute_result"
    }
   ],
   "source": [
    "## YOUR SOLUTION HERE ##\n",
    "parks['PercentChange2020'] = round(parks['PercentChange2020'], 2)\n",
    "\n",
    "# show output - we've called .describe() to see an overall picture of the percent change from 2019 to 2020\n",
    "parks['PercentChange2020'].describe()"
   ]
  },
  {
   "cell_type": "code",
   "execution_count": null,
   "id": "4199cd65",
   "metadata": {},
   "outputs": [],
   "source": []
  }
 ],
 "metadata": {
  "kernelspec": {
   "display_name": "Python 3 (ipykernel)",
   "language": "python",
   "name": "python3"
  },
  "language_info": {
   "codemirror_mode": {
    "name": "ipython",
    "version": 3
   },
   "file_extension": ".py",
   "mimetype": "text/x-python",
   "name": "python",
   "nbconvert_exporter": "python",
   "pygments_lexer": "ipython3",
   "version": "3.8.10"
  }
 },
 "nbformat": 4,
 "nbformat_minor": 5
}
